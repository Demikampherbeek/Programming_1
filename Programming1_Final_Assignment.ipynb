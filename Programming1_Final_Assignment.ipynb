{
 "cells": [
  {
   "attachments": {},
   "cell_type": "markdown",
   "metadata": {},
   "source": [
    "# The correlation between IQ score and happiness\n",
    "Name: Demi Kampherbeek\n",
    "Subject: Programming 1 (final assignment)\n",
    "\n",
    "For this assignment, the correlation between IQ score and happiness was researched. Both dataframes used come from Kaggle.com. The dataframes used are IQ score per country, and a Happiness score per country. \n",
    "\n",
    "Happiness score dataframe link: https://www.kaggle.com/datasets/ajaypalsinghlo/world-happiness-report-2021 \n",
    "\n",
    "IQ score dataframe link: https://www.kaggle.com/code/idakarimi/average-iq-by-country/data?select=IQ.csv\n",
    "\n"
   ]
  },
  {
   "attachments": {},
   "cell_type": "markdown",
   "metadata": {},
   "source": [
    "## Import libraries that are being used"
   ]
  },
  {
   "cell_type": "code",
   "execution_count": 1,
   "metadata": {},
   "outputs": [],
   "source": [
    "import pandas as pd\n",
    "import numpy as np\n",
    "import yaml\n",
    "from bokeh.io import push_notebook, show, output_notebook\n",
    "from bokeh.layouts import row \n",
    "from bokeh.plotting import figure\n",
    "from bokeh.models import HoverTool"
   ]
  },
  {
   "attachments": {},
   "cell_type": "markdown",
   "metadata": {},
   "source": [
    "## Load both dataframes in\n"
   ]
  },
  {
   "cell_type": "code",
   "execution_count": 2,
   "metadata": {},
   "outputs": [],
   "source": [
    "with open('D:/Downloads/Programming1_final_assignment/Config_file_final_assignment.yml') as config:\n",
    "    data = yaml.safe_load(config)\n",
    "    \n",
    "IQ_score = pd.read_csv(data['IQ_score']) \n",
    "Happiness_score = pd.read_csv(data['Happiness_score'])"
   ]
  },
  {
   "attachments": {},
   "cell_type": "markdown",
   "metadata": {},
   "source": [
    "## Get matching countries from both dataframes\n",
    "\n",
    "This code looks at country names that do not appear in IQ score dataframe that are in the happiness score dataframe and vice versa. After scanning these results, differently written countries were renamed in the happiness score dataframe to match the IQ score dataframe. After changing these names, countries were removed from the happiness score dataframe that do not appear in the IQ score dataframe and also vice versa. "
   ]
  },
  {
   "cell_type": "code",
   "execution_count": 3,
   "metadata": {},
   "outputs": [],
   "source": [
    "Difference_happiness = [x for x in list(Happiness_score['Country name'].unique()) if x not in list(IQ_score['country'].unique())]\n",
    "list(Difference_happiness)\n",
    "Difference_IQ = [x for x in list(IQ_score['country'].unique()) if x not in list(Happiness_score['Country name'].unique())]\n",
    "list(Difference_IQ) \n",
    "\n",
    "Happiness_score['Country name'].replace({'Taiwan Province of China':'Taiwan','Hong Kong S.A.R. of China' :'Hong Kong', 'Congo (Brazzaville)' : 'DR Congo', 'Palestinian Territories' : 'Palestine'}, inplace = True)\n",
    "\n",
    "Happiness_score = Happiness_score[Happiness_score['Country name'].isin(IQ_score['country'])] \n",
    "IQ_score = IQ_score[IQ_score['country'].isin(Happiness_score['Country name'])] \n"
   ]
  },
  {
   "attachments": {},
   "cell_type": "markdown",
   "metadata": {},
   "source": [
    "## Merge both dataframes \n",
    "First, the 'country' column name is renamed in the IQ score dataframe to make merging easier. Afterwards, both dataframes were merged and a dataframe was made of country name with iq score and happiness score. The column names were renamed (whitespaces removed) for the interactive bokeh plot."
   ]
  },
  {
   "cell_type": "code",
   "execution_count": 4,
   "metadata": {},
   "outputs": [
    {
     "data": {
      "text/html": [
       "<div>\n",
       "<style scoped>\n",
       "    .dataframe tbody tr th:only-of-type {\n",
       "        vertical-align: middle;\n",
       "    }\n",
       "\n",
       "    .dataframe tbody tr th {\n",
       "        vertical-align: top;\n",
       "    }\n",
       "\n",
       "    .dataframe thead th {\n",
       "        text-align: right;\n",
       "    }\n",
       "</style>\n",
       "<table border=\"1\" class=\"dataframe\">\n",
       "  <thead>\n",
       "    <tr style=\"text-align: right;\">\n",
       "      <th></th>\n",
       "      <th>Country_name</th>\n",
       "      <th>IQ_score</th>\n",
       "      <th>Happiness_score</th>\n",
       "    </tr>\n",
       "  </thead>\n",
       "  <tbody>\n",
       "    <tr>\n",
       "      <th>0</th>\n",
       "      <td>Japan</td>\n",
       "      <td>106.48</td>\n",
       "      <td>5.940</td>\n",
       "    </tr>\n",
       "    <tr>\n",
       "      <th>1</th>\n",
       "      <td>Taiwan</td>\n",
       "      <td>106.47</td>\n",
       "      <td>6.584</td>\n",
       "    </tr>\n",
       "    <tr>\n",
       "      <th>2</th>\n",
       "      <td>Singapore</td>\n",
       "      <td>105.89</td>\n",
       "      <td>6.377</td>\n",
       "    </tr>\n",
       "    <tr>\n",
       "      <th>3</th>\n",
       "      <td>Hong Kong</td>\n",
       "      <td>105.37</td>\n",
       "      <td>5.477</td>\n",
       "    </tr>\n",
       "    <tr>\n",
       "      <th>4</th>\n",
       "      <td>China</td>\n",
       "      <td>104.10</td>\n",
       "      <td>5.339</td>\n",
       "    </tr>\n",
       "  </tbody>\n",
       "</table>\n",
       "</div>"
      ],
      "text/plain": [
       "  Country_name  IQ_score  Happiness_score\n",
       "0        Japan    106.48            5.940\n",
       "1       Taiwan    106.47            6.584\n",
       "2    Singapore    105.89            6.377\n",
       "3    Hong Kong    105.37            5.477\n",
       "4        China    104.10            5.339"
      ]
     },
     "execution_count": 4,
     "metadata": {},
     "output_type": "execute_result"
    }
   ],
   "source": [
    "IQ_score = IQ_score.rename(columns={'country':'Country name'}) \n",
    "Happiness_and_IQ_score = pd.merge(IQ_score,Happiness_score,left_on='Country name',right_on='Country name') \n",
    "Happiness_and_IQ_score = Happiness_and_IQ_score[['Country name', 'iq', 'Ladder score']] \n",
    "Happiness_and_IQ_score = Happiness_and_IQ_score.rename(columns={'Country name':'Country_name','iq':'IQ_score','Ladder score':'Happiness_score'})\n",
    "Happiness_and_IQ_score.head()"
   ]
  },
  {
   "attachments": {},
   "cell_type": "markdown",
   "metadata": {},
   "source": [
    "## Plotting graph\n",
    "A plot was graphed with bokeh. In this plot a scatter plot can be seen in which over the points can be hovered to see the corresponding country and exact IQ- and happiness score of that country. A regression line can also be seen that was calculated. "
   ]
  },
  {
   "cell_type": "code",
   "execution_count": 5,
   "metadata": {},
   "outputs": [
    {
     "name": "stderr",
     "output_type": "stream",
     "text": [
      "BokehDeprecationWarning: 'legend' keyword is deprecated, use explicit 'legend_label', 'legend_field', or 'legend_group' keywords instead\n"
     ]
    }
   ],
   "source": [
    "par = np.polyfit(Happiness_and_IQ_score['IQ_score'], Happiness_and_IQ_score['Happiness_score'], 1, full=True)\n",
    "slope=par[0][0]\n",
    "intercept=par[0][1]\n",
    "y_predicted = [slope*i + intercept  for i in Happiness_and_IQ_score['IQ_score']]\n",
    "\n",
    "tools = 'crosshair,box_zoom,undo,reset,wheel_zoom,tap'\n",
    "p = figure(plot_width=900, plot_height=550, title = 'IQ score versus happiness score per country', tools=tools)\n",
    "p.scatter(x='IQ_score',\n",
    "          y='Happiness_score',\n",
    "          source=Happiness_and_IQ_score,\n",
    "          fill_alpha=0.5, \n",
    "          color='deeppink',\n",
    "          size=8)\n",
    "\n",
    "p.line(Happiness_and_IQ_score['IQ_score'],y_predicted,color='black',legend='y='+str(round(slope,2))+'x+'+str(round(intercept,2)))\n",
    "p.legend.location = 'top_left'\n",
    "\n",
    "p.xaxis.axis_label = 'IQ score'\n",
    "p.yaxis.axis_label = 'Happiness score'\n",
    "hover = HoverTool(tooltips=[('Country','@Country_name'),\n",
    "                           ('IQ_score','@IQ_score'),\n",
    "                           ('Happiness_score','@Happiness_score')])\n",
    "p.add_tools(hover)\n",
    "show(p)"
   ]
  },
  {
   "attachments": {},
   "cell_type": "markdown",
   "metadata": {},
   "source": [
    "## Pearson’s correlation coefficient\n",
    "A Pearson's correlation coeffiecient was calculated to measure the statistical relationship between IQ- and happiness score. \n"
   ]
  },
  {
   "cell_type": "code",
   "execution_count": 6,
   "metadata": {},
   "outputs": [
    {
     "name": "stdout",
     "output_type": "stream",
     "text": [
      "R: 0.582\n"
     ]
    }
   ],
   "source": [
    "corr = Happiness_and_IQ_score['IQ_score'].corr(Happiness_and_IQ_score['Happiness_score'], method='pearson')\n",
    "R_value = str(round(corr,3))\n",
    "print('R:',R_value)"
   ]
  },
  {
   "attachments": {},
   "cell_type": "markdown",
   "metadata": {},
   "source": [
    "## Conclusion\n",
    "From the interactive bokeh plot that has an ascending regression line and the Pearson correlation coefficient of 0.582, it can be concluded that there is a moderately correlated relation between IQ score and happiness score. This means IQ score and happiness score are to some degree associated with eachother. Because a lot of factors that contribute to happiness score and IQ score, a higher IQ score is not the sole component that causes happiness. For a next study, other contributing factors to the happiness score like local weather, work quality, gdp etc. can be researched together with happiness score. "
   ]
  }
 ],
 "metadata": {
  "kernelspec": {
   "display_name": "Python 3",
   "language": "python",
   "name": "python3"
  },
  "language_info": {
   "codemirror_mode": {
    "name": "ipython",
    "version": 3
   },
   "file_extension": ".py",
   "mimetype": "text/x-python",
   "name": "python",
   "nbconvert_exporter": "python",
   "pygments_lexer": "ipython3",
   "version": "3.10.10"
  },
  "orig_nbformat": 4,
  "vscode": {
   "interpreter": {
    "hash": "13c09bf35f772e5f82b64da23faef75b9430ffd74faa4d586598d4bf4220b32a"
   }
  }
 },
 "nbformat": 4,
 "nbformat_minor": 2
}
